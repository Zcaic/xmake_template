{
 "cells": [
  {
   "cell_type": "code",
   "execution_count": 3,
   "id": "0508547c",
   "metadata": {},
   "outputs": [],
   "source": [
    "import numpy as np \n",
    "import aerosandbox as asb"
   ]
  },
  {
   "cell_type": "code",
   "execution_count": 3,
   "id": "0fdc87c0",
   "metadata": {},
   "outputs": [
    {
     "name": "stdout",
     "output_type": "stream",
     "text": [
      "0.9572668675032183\n"
     ]
    }
   ],
   "source": [
    "T=3.6*1000*9.81\n",
    "p_in=833000\n",
    "R=3 \n",
    "A=np.pi*R**2\n",
    "\n",
    "p_out=T*np.sqrt(T/(2*1.225*A))\n",
    "eta=p_out/p_in \n",
    "print(eta)"
   ]
  },
  {
   "cell_type": "code",
   "execution_count": 4,
   "id": "0dfeb064",
   "metadata": {},
   "outputs": [
    {
     "name": "stdout",
     "output_type": "stream",
     "text": [
      "0.6763664183610966\n",
      "15743250.14636083\n"
     ]
    }
   ],
   "source": [
    "rpm=732*2*np.pi/60 \n",
    "velo=rpm*3.0\n",
    "ma=velo/340\n",
    "re=1.225*velo/asb.Atmosphere(altitude=0.0).dynamic_viscosity()\n",
    "print(ma)\n",
    "print(re)"
   ]
  },
  {
   "cell_type": "code",
   "execution_count": 4,
   "id": "e3d65ea3",
   "metadata": {},
   "outputs": [
    {
     "ename": "ImportError",
     "evalue": "DLL load failed while importing example: 找不到指定的模块。",
     "output_type": "error",
     "traceback": [
      "\u001b[31m---------------------------------------------------------------------------\u001b[39m",
      "\u001b[31mImportError\u001b[39m                               Traceback (most recent call last)",
      "\u001b[36mCell\u001b[39m\u001b[36m \u001b[39m\u001b[32mIn[4]\u001b[39m\u001b[32m, line 1\u001b[39m\n\u001b[32m----> \u001b[39m\u001b[32m1\u001b[39m \u001b[38;5;28;01mimport\u001b[39;00m\u001b[38;5;250m \u001b[39m\u001b[34;01mout\u001b[39;00m\u001b[34;01m.\u001b[39;00m\u001b[34;01mexample\u001b[39;00m\n",
      "\u001b[31mImportError\u001b[39m: DLL load failed while importing example: 找不到指定的模块。"
     ]
    }
   ],
   "source": [
    "import out.example"
   ]
  }
 ],
 "metadata": {
  "kernelspec": {
   "display_name": "py12",
   "language": "python",
   "name": "python3"
  },
  "language_info": {
   "codemirror_mode": {
    "name": "ipython",
    "version": 3
   },
   "file_extension": ".py",
   "mimetype": "text/x-python",
   "name": "python",
   "nbconvert_exporter": "python",
   "pygments_lexer": "ipython3",
   "version": "3.12.9"
  }
 },
 "nbformat": 4,
 "nbformat_minor": 5
}
